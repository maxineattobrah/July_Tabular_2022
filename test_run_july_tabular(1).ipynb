{
  "cells": [
    {
      "cell_type": "code",
      "execution_count": 16,
      "id": "b504982f",
      "metadata": {
        "id": "b504982f"
      },
      "outputs": [],
      "source": [
        "import numpy as np\n",
        "import pandas as pd\n",
        "from sklearn import feature_extraction, preprocessing, linear_model, model_selection\n",
        "\n",
        "\n",
        "import lightgbm as lgb\n",
        "from sklearn.linear_model import Lasso\n",
        "from xgboost import XGBClassifier\n",
        "\n",
        "\n",
        "from sklearn.cluster import KMeans, MiniBatchKMeans\n",
        "from sklearn.mixture import GaussianMixture, BayesianGaussianMixture\n",
        "\n",
        "from sklearn.model_selection import train_test_split\n",
        "\n",
        "\n",
        "import seaborn as sm\n",
        "import matplotlib.pyplot as plotGraph\n",
        "from sklearn.decomposition import PCA\n",
        "\n",
        "\n",
        "from sklearn.model_selection import cross_validate\n",
        "from sklearn.model_selection import cross_val_score\n",
        "\n",
        "from yellowbrick.cluster import KElbowVisualizer\n",
        "\n",
        "from sklearn.preprocessing import RobustScaler\n",
        "from scipy.sparse import csr_matrix\n",
        "from tqdm import trange\n",
        "\n"
      ]
    },
    {
      "cell_type": "code",
      "execution_count": 17,
      "id": "aa96e99e",
      "metadata": {
        "id": "aa96e99e"
      },
      "outputs": [],
      "source": [
        "data_df = pd.read_csv(\"data.csv\")\n",
        "submission_csv = pd.read_csv(\"sample_submission.csv\")"
      ]
    },
    {
      "cell_type": "code",
      "execution_count": 18,
      "id": "48e361f6",
      "metadata": {
        "colab": {
          "base_uri": "https://localhost:8080/",
          "height": 488
        },
        "id": "48e361f6",
        "outputId": "4ac3c79e-c7e0-4749-e0ac-226cdf9db9fb"
      },
      "outputs": [
        {
          "output_type": "execute_result",
          "data": {
            "text/plain": [
              "          id      f_00      f_01      f_02      f_03      f_04      f_05  \\\n",
              "0          0 -0.389420 -0.912791  0.648951  0.589045 -0.830817  0.733624   \n",
              "1          1 -0.689249 -0.453954  0.654175  0.995248 -1.653020  0.863810   \n",
              "2          2  0.809079  0.324568 -1.170602 -0.624491  0.105448  0.783948   \n",
              "3          3 -0.500923  0.229049  0.264109  0.231520  0.415012 -1.221269   \n",
              "4          4 -0.671268 -1.039533 -0.270155 -1.830264 -0.290108 -1.852809   \n",
              "...      ...       ...       ...       ...       ...       ...       ...   \n",
              "97995  97995  0.237591  1.657034 -0.689282  0.313710 -0.299039  0.329139   \n",
              "97996  97996  0.322696  0.710411  0.562625 -1.321713 -0.357708  0.182024   \n",
              "97997  97997 -0.249364 -0.459545  1.886122 -1.340310  0.195029 -0.559520   \n",
              "97998  97998  0.311408  2.185237  0.761367  0.436723  0.464967  0.062321   \n",
              "97999  97999  0.755170  0.567483  1.456767 -0.579071 -0.048474 -1.206240   \n",
              "\n",
              "           f_06  f_07  f_08  ...      f_19      f_20      f_21      f_22  \\\n",
              "0      2.258560     2    13  ... -0.478412 -0.757002 -0.763635 -1.090369   \n",
              "1     -0.090651     2     3  ... -0.428791 -0.089908 -1.784204 -0.839474   \n",
              "2      1.988301     5    11  ... -0.413534 -1.602377  1.190984  3.267116   \n",
              "3      0.138850     6     2  ...  0.619283  1.287801  0.532837  1.036631   \n",
              "4      0.781898     8     7  ... -1.628830 -0.434948  0.322505  0.284326   \n",
              "...         ...   ...   ...  ...       ...       ...       ...       ...   \n",
              "97995  1.607378     5     7  ... -0.290116 -0.258141 -0.973640  1.369508   \n",
              "97996  0.178558     3     9  ...  0.117687  1.388242  0.342400  1.680537   \n",
              "97997 -0.379767     8     9  ... -0.850223 -1.787648 -1.268115 -1.508330   \n",
              "97998 -0.334025     1     8  ... -0.010839  1.118906  1.565765  0.358480   \n",
              "97999  0.784305     0    11  ...  1.180805 -0.925705 -1.368680 -2.465425   \n",
              "\n",
              "           f_23      f_24      f_25      f_26      f_27      f_28  \n",
              "0      1.142641 -0.884274  1.137896  1.309073  1.463002  0.813527  \n",
              "1      0.459685  1.759412 -0.275422 -0.852168  0.562457 -2.680541  \n",
              "2     -0.088322 -2.168635 -0.974989  1.335763 -1.110655 -3.630723  \n",
              "3     -2.041828  1.440490 -1.900191 -0.630771 -0.050641  0.238333  \n",
              "4     -2.438365  1.473930 -1.044684  1.602686 -0.405263 -1.987263  \n",
              "...         ...       ...       ...       ...       ...       ...  \n",
              "97995  0.391055  2.152426 -0.208944 -1.475403  0.298448  0.445039  \n",
              "97996 -0.860409  0.579165  1.162692  0.134994  0.994666  0.727642  \n",
              "97997  1.945622  1.503645  0.194968  2.142693  1.646042  0.641466  \n",
              "97998  0.547615  1.224439 -0.537998 -1.610954 -0.616227 -0.066211  \n",
              "97999  1.453582 -1.685122  0.129689 -0.970897  1.404988 -0.711098  \n",
              "\n",
              "[98000 rows x 30 columns]"
            ],
            "text/html": [
              "\n",
              "  <div id=\"df-c924ee99-3bcf-4e08-9d12-4cef6792b5a5\">\n",
              "    <div class=\"colab-df-container\">\n",
              "      <div>\n",
              "<style scoped>\n",
              "    .dataframe tbody tr th:only-of-type {\n",
              "        vertical-align: middle;\n",
              "    }\n",
              "\n",
              "    .dataframe tbody tr th {\n",
              "        vertical-align: top;\n",
              "    }\n",
              "\n",
              "    .dataframe thead th {\n",
              "        text-align: right;\n",
              "    }\n",
              "</style>\n",
              "<table border=\"1\" class=\"dataframe\">\n",
              "  <thead>\n",
              "    <tr style=\"text-align: right;\">\n",
              "      <th></th>\n",
              "      <th>id</th>\n",
              "      <th>f_00</th>\n",
              "      <th>f_01</th>\n",
              "      <th>f_02</th>\n",
              "      <th>f_03</th>\n",
              "      <th>f_04</th>\n",
              "      <th>f_05</th>\n",
              "      <th>f_06</th>\n",
              "      <th>f_07</th>\n",
              "      <th>f_08</th>\n",
              "      <th>...</th>\n",
              "      <th>f_19</th>\n",
              "      <th>f_20</th>\n",
              "      <th>f_21</th>\n",
              "      <th>f_22</th>\n",
              "      <th>f_23</th>\n",
              "      <th>f_24</th>\n",
              "      <th>f_25</th>\n",
              "      <th>f_26</th>\n",
              "      <th>f_27</th>\n",
              "      <th>f_28</th>\n",
              "    </tr>\n",
              "  </thead>\n",
              "  <tbody>\n",
              "    <tr>\n",
              "      <th>0</th>\n",
              "      <td>0</td>\n",
              "      <td>-0.389420</td>\n",
              "      <td>-0.912791</td>\n",
              "      <td>0.648951</td>\n",
              "      <td>0.589045</td>\n",
              "      <td>-0.830817</td>\n",
              "      <td>0.733624</td>\n",
              "      <td>2.258560</td>\n",
              "      <td>2</td>\n",
              "      <td>13</td>\n",
              "      <td>...</td>\n",
              "      <td>-0.478412</td>\n",
              "      <td>-0.757002</td>\n",
              "      <td>-0.763635</td>\n",
              "      <td>-1.090369</td>\n",
              "      <td>1.142641</td>\n",
              "      <td>-0.884274</td>\n",
              "      <td>1.137896</td>\n",
              "      <td>1.309073</td>\n",
              "      <td>1.463002</td>\n",
              "      <td>0.813527</td>\n",
              "    </tr>\n",
              "    <tr>\n",
              "      <th>1</th>\n",
              "      <td>1</td>\n",
              "      <td>-0.689249</td>\n",
              "      <td>-0.453954</td>\n",
              "      <td>0.654175</td>\n",
              "      <td>0.995248</td>\n",
              "      <td>-1.653020</td>\n",
              "      <td>0.863810</td>\n",
              "      <td>-0.090651</td>\n",
              "      <td>2</td>\n",
              "      <td>3</td>\n",
              "      <td>...</td>\n",
              "      <td>-0.428791</td>\n",
              "      <td>-0.089908</td>\n",
              "      <td>-1.784204</td>\n",
              "      <td>-0.839474</td>\n",
              "      <td>0.459685</td>\n",
              "      <td>1.759412</td>\n",
              "      <td>-0.275422</td>\n",
              "      <td>-0.852168</td>\n",
              "      <td>0.562457</td>\n",
              "      <td>-2.680541</td>\n",
              "    </tr>\n",
              "    <tr>\n",
              "      <th>2</th>\n",
              "      <td>2</td>\n",
              "      <td>0.809079</td>\n",
              "      <td>0.324568</td>\n",
              "      <td>-1.170602</td>\n",
              "      <td>-0.624491</td>\n",
              "      <td>0.105448</td>\n",
              "      <td>0.783948</td>\n",
              "      <td>1.988301</td>\n",
              "      <td>5</td>\n",
              "      <td>11</td>\n",
              "      <td>...</td>\n",
              "      <td>-0.413534</td>\n",
              "      <td>-1.602377</td>\n",
              "      <td>1.190984</td>\n",
              "      <td>3.267116</td>\n",
              "      <td>-0.088322</td>\n",
              "      <td>-2.168635</td>\n",
              "      <td>-0.974989</td>\n",
              "      <td>1.335763</td>\n",
              "      <td>-1.110655</td>\n",
              "      <td>-3.630723</td>\n",
              "    </tr>\n",
              "    <tr>\n",
              "      <th>3</th>\n",
              "      <td>3</td>\n",
              "      <td>-0.500923</td>\n",
              "      <td>0.229049</td>\n",
              "      <td>0.264109</td>\n",
              "      <td>0.231520</td>\n",
              "      <td>0.415012</td>\n",
              "      <td>-1.221269</td>\n",
              "      <td>0.138850</td>\n",
              "      <td>6</td>\n",
              "      <td>2</td>\n",
              "      <td>...</td>\n",
              "      <td>0.619283</td>\n",
              "      <td>1.287801</td>\n",
              "      <td>0.532837</td>\n",
              "      <td>1.036631</td>\n",
              "      <td>-2.041828</td>\n",
              "      <td>1.440490</td>\n",
              "      <td>-1.900191</td>\n",
              "      <td>-0.630771</td>\n",
              "      <td>-0.050641</td>\n",
              "      <td>0.238333</td>\n",
              "    </tr>\n",
              "    <tr>\n",
              "      <th>4</th>\n",
              "      <td>4</td>\n",
              "      <td>-0.671268</td>\n",
              "      <td>-1.039533</td>\n",
              "      <td>-0.270155</td>\n",
              "      <td>-1.830264</td>\n",
              "      <td>-0.290108</td>\n",
              "      <td>-1.852809</td>\n",
              "      <td>0.781898</td>\n",
              "      <td>8</td>\n",
              "      <td>7</td>\n",
              "      <td>...</td>\n",
              "      <td>-1.628830</td>\n",
              "      <td>-0.434948</td>\n",
              "      <td>0.322505</td>\n",
              "      <td>0.284326</td>\n",
              "      <td>-2.438365</td>\n",
              "      <td>1.473930</td>\n",
              "      <td>-1.044684</td>\n",
              "      <td>1.602686</td>\n",
              "      <td>-0.405263</td>\n",
              "      <td>-1.987263</td>\n",
              "    </tr>\n",
              "    <tr>\n",
              "      <th>...</th>\n",
              "      <td>...</td>\n",
              "      <td>...</td>\n",
              "      <td>...</td>\n",
              "      <td>...</td>\n",
              "      <td>...</td>\n",
              "      <td>...</td>\n",
              "      <td>...</td>\n",
              "      <td>...</td>\n",
              "      <td>...</td>\n",
              "      <td>...</td>\n",
              "      <td>...</td>\n",
              "      <td>...</td>\n",
              "      <td>...</td>\n",
              "      <td>...</td>\n",
              "      <td>...</td>\n",
              "      <td>...</td>\n",
              "      <td>...</td>\n",
              "      <td>...</td>\n",
              "      <td>...</td>\n",
              "      <td>...</td>\n",
              "      <td>...</td>\n",
              "    </tr>\n",
              "    <tr>\n",
              "      <th>97995</th>\n",
              "      <td>97995</td>\n",
              "      <td>0.237591</td>\n",
              "      <td>1.657034</td>\n",
              "      <td>-0.689282</td>\n",
              "      <td>0.313710</td>\n",
              "      <td>-0.299039</td>\n",
              "      <td>0.329139</td>\n",
              "      <td>1.607378</td>\n",
              "      <td>5</td>\n",
              "      <td>7</td>\n",
              "      <td>...</td>\n",
              "      <td>-0.290116</td>\n",
              "      <td>-0.258141</td>\n",
              "      <td>-0.973640</td>\n",
              "      <td>1.369508</td>\n",
              "      <td>0.391055</td>\n",
              "      <td>2.152426</td>\n",
              "      <td>-0.208944</td>\n",
              "      <td>-1.475403</td>\n",
              "      <td>0.298448</td>\n",
              "      <td>0.445039</td>\n",
              "    </tr>\n",
              "    <tr>\n",
              "      <th>97996</th>\n",
              "      <td>97996</td>\n",
              "      <td>0.322696</td>\n",
              "      <td>0.710411</td>\n",
              "      <td>0.562625</td>\n",
              "      <td>-1.321713</td>\n",
              "      <td>-0.357708</td>\n",
              "      <td>0.182024</td>\n",
              "      <td>0.178558</td>\n",
              "      <td>3</td>\n",
              "      <td>9</td>\n",
              "      <td>...</td>\n",
              "      <td>0.117687</td>\n",
              "      <td>1.388242</td>\n",
              "      <td>0.342400</td>\n",
              "      <td>1.680537</td>\n",
              "      <td>-0.860409</td>\n",
              "      <td>0.579165</td>\n",
              "      <td>1.162692</td>\n",
              "      <td>0.134994</td>\n",
              "      <td>0.994666</td>\n",
              "      <td>0.727642</td>\n",
              "    </tr>\n",
              "    <tr>\n",
              "      <th>97997</th>\n",
              "      <td>97997</td>\n",
              "      <td>-0.249364</td>\n",
              "      <td>-0.459545</td>\n",
              "      <td>1.886122</td>\n",
              "      <td>-1.340310</td>\n",
              "      <td>0.195029</td>\n",
              "      <td>-0.559520</td>\n",
              "      <td>-0.379767</td>\n",
              "      <td>8</td>\n",
              "      <td>9</td>\n",
              "      <td>...</td>\n",
              "      <td>-0.850223</td>\n",
              "      <td>-1.787648</td>\n",
              "      <td>-1.268115</td>\n",
              "      <td>-1.508330</td>\n",
              "      <td>1.945622</td>\n",
              "      <td>1.503645</td>\n",
              "      <td>0.194968</td>\n",
              "      <td>2.142693</td>\n",
              "      <td>1.646042</td>\n",
              "      <td>0.641466</td>\n",
              "    </tr>\n",
              "    <tr>\n",
              "      <th>97998</th>\n",
              "      <td>97998</td>\n",
              "      <td>0.311408</td>\n",
              "      <td>2.185237</td>\n",
              "      <td>0.761367</td>\n",
              "      <td>0.436723</td>\n",
              "      <td>0.464967</td>\n",
              "      <td>0.062321</td>\n",
              "      <td>-0.334025</td>\n",
              "      <td>1</td>\n",
              "      <td>8</td>\n",
              "      <td>...</td>\n",
              "      <td>-0.010839</td>\n",
              "      <td>1.118906</td>\n",
              "      <td>1.565765</td>\n",
              "      <td>0.358480</td>\n",
              "      <td>0.547615</td>\n",
              "      <td>1.224439</td>\n",
              "      <td>-0.537998</td>\n",
              "      <td>-1.610954</td>\n",
              "      <td>-0.616227</td>\n",
              "      <td>-0.066211</td>\n",
              "    </tr>\n",
              "    <tr>\n",
              "      <th>97999</th>\n",
              "      <td>97999</td>\n",
              "      <td>0.755170</td>\n",
              "      <td>0.567483</td>\n",
              "      <td>1.456767</td>\n",
              "      <td>-0.579071</td>\n",
              "      <td>-0.048474</td>\n",
              "      <td>-1.206240</td>\n",
              "      <td>0.784305</td>\n",
              "      <td>0</td>\n",
              "      <td>11</td>\n",
              "      <td>...</td>\n",
              "      <td>1.180805</td>\n",
              "      <td>-0.925705</td>\n",
              "      <td>-1.368680</td>\n",
              "      <td>-2.465425</td>\n",
              "      <td>1.453582</td>\n",
              "      <td>-1.685122</td>\n",
              "      <td>0.129689</td>\n",
              "      <td>-0.970897</td>\n",
              "      <td>1.404988</td>\n",
              "      <td>-0.711098</td>\n",
              "    </tr>\n",
              "  </tbody>\n",
              "</table>\n",
              "<p>98000 rows × 30 columns</p>\n",
              "</div>\n",
              "      <button class=\"colab-df-convert\" onclick=\"convertToInteractive('df-c924ee99-3bcf-4e08-9d12-4cef6792b5a5')\"\n",
              "              title=\"Convert this dataframe to an interactive table.\"\n",
              "              style=\"display:none;\">\n",
              "        \n",
              "  <svg xmlns=\"http://www.w3.org/2000/svg\" height=\"24px\"viewBox=\"0 0 24 24\"\n",
              "       width=\"24px\">\n",
              "    <path d=\"M0 0h24v24H0V0z\" fill=\"none\"/>\n",
              "    <path d=\"M18.56 5.44l.94 2.06.94-2.06 2.06-.94-2.06-.94-.94-2.06-.94 2.06-2.06.94zm-11 1L8.5 8.5l.94-2.06 2.06-.94-2.06-.94L8.5 2.5l-.94 2.06-2.06.94zm10 10l.94 2.06.94-2.06 2.06-.94-2.06-.94-.94-2.06-.94 2.06-2.06.94z\"/><path d=\"M17.41 7.96l-1.37-1.37c-.4-.4-.92-.59-1.43-.59-.52 0-1.04.2-1.43.59L10.3 9.45l-7.72 7.72c-.78.78-.78 2.05 0 2.83L4 21.41c.39.39.9.59 1.41.59.51 0 1.02-.2 1.41-.59l7.78-7.78 2.81-2.81c.8-.78.8-2.07 0-2.86zM5.41 20L4 18.59l7.72-7.72 1.47 1.35L5.41 20z\"/>\n",
              "  </svg>\n",
              "      </button>\n",
              "      \n",
              "  <style>\n",
              "    .colab-df-container {\n",
              "      display:flex;\n",
              "      flex-wrap:wrap;\n",
              "      gap: 12px;\n",
              "    }\n",
              "\n",
              "    .colab-df-convert {\n",
              "      background-color: #E8F0FE;\n",
              "      border: none;\n",
              "      border-radius: 50%;\n",
              "      cursor: pointer;\n",
              "      display: none;\n",
              "      fill: #1967D2;\n",
              "      height: 32px;\n",
              "      padding: 0 0 0 0;\n",
              "      width: 32px;\n",
              "    }\n",
              "\n",
              "    .colab-df-convert:hover {\n",
              "      background-color: #E2EBFA;\n",
              "      box-shadow: 0px 1px 2px rgba(60, 64, 67, 0.3), 0px 1px 3px 1px rgba(60, 64, 67, 0.15);\n",
              "      fill: #174EA6;\n",
              "    }\n",
              "\n",
              "    [theme=dark] .colab-df-convert {\n",
              "      background-color: #3B4455;\n",
              "      fill: #D2E3FC;\n",
              "    }\n",
              "\n",
              "    [theme=dark] .colab-df-convert:hover {\n",
              "      background-color: #434B5C;\n",
              "      box-shadow: 0px 1px 3px 1px rgba(0, 0, 0, 0.15);\n",
              "      filter: drop-shadow(0px 1px 2px rgba(0, 0, 0, 0.3));\n",
              "      fill: #FFFFFF;\n",
              "    }\n",
              "  </style>\n",
              "\n",
              "      <script>\n",
              "        const buttonEl =\n",
              "          document.querySelector('#df-c924ee99-3bcf-4e08-9d12-4cef6792b5a5 button.colab-df-convert');\n",
              "        buttonEl.style.display =\n",
              "          google.colab.kernel.accessAllowed ? 'block' : 'none';\n",
              "\n",
              "        async function convertToInteractive(key) {\n",
              "          const element = document.querySelector('#df-c924ee99-3bcf-4e08-9d12-4cef6792b5a5');\n",
              "          const dataTable =\n",
              "            await google.colab.kernel.invokeFunction('convertToInteractive',\n",
              "                                                     [key], {});\n",
              "          if (!dataTable) return;\n",
              "\n",
              "          const docLinkHtml = 'Like what you see? Visit the ' +\n",
              "            '<a target=\"_blank\" href=https://colab.research.google.com/notebooks/data_table.ipynb>data table notebook</a>'\n",
              "            + ' to learn more about interactive tables.';\n",
              "          element.innerHTML = '';\n",
              "          dataTable['output_type'] = 'display_data';\n",
              "          await google.colab.output.renderOutput(dataTable, element);\n",
              "          const docLink = document.createElement('div');\n",
              "          docLink.innerHTML = docLinkHtml;\n",
              "          element.appendChild(docLink);\n",
              "        }\n",
              "      </script>\n",
              "    </div>\n",
              "  </div>\n",
              "  "
            ]
          },
          "metadata": {},
          "execution_count": 18
        }
      ],
      "source": [
        "data_df"
      ]
    },
    {
      "cell_type": "code",
      "execution_count": 19,
      "id": "475e9d88",
      "metadata": {
        "id": "475e9d88"
      },
      "outputs": [],
      "source": [
        "# df_data1 = np.array_split(data_df, 20)[0]\n",
        "# df_data1"
      ]
    },
    {
      "cell_type": "code",
      "execution_count": 20,
      "id": "78351486",
      "metadata": {
        "id": "78351486"
      },
      "outputs": [],
      "source": [
        "# df_data1.to_csv(\"df_data1.csv\")"
      ]
    },
    {
      "cell_type": "code",
      "execution_count": 21,
      "id": "7933002f",
      "metadata": {
        "id": "7933002f"
      },
      "outputs": [],
      "source": [
        "# training_data, testing_data = train_test_split(data_df, test_size=0.2, random_state=0)"
      ]
    },
    {
      "cell_type": "code",
      "execution_count": 22,
      "id": "6ee145e0",
      "metadata": {
        "scrolled": true,
        "id": "6ee145e0"
      },
      "outputs": [],
      "source": [
        "# # find optimal number of neighbors using cross validation\n",
        "# figure, axis = plotGraph.subplots(figsize=(20, 10))\n",
        "\n",
        "\n",
        "\n",
        "# scores_array=[]\n",
        "# i_track = []\n",
        "# for i in range(1, 21):\n",
        "#     kmeans_ = KMeans(n_clusters = i, random_state=0)\n",
        "#     cvs = cross_val_score(kmeans_, data_df, cv=10)\n",
        "#     avg_cvs_score = np.mean(cvs)\n",
        "#     print(kmeans_,':', np.abs(avg_cvs_score))\n",
        "#     i_track.append(i)\n",
        "#     scores_array.append(  np.abs(avg_cvs_score))\n",
        "#     axis.scatter(i,np.abs(avg_cvs_score))\n",
        "#     axis.annotate('(N=' +str(i) +', '+ str(round(avg_cvs_score,3)) +')', (i, avg_cvs_score), textcoords='offset points', xytext=(0,20), ha='center')\n",
        "\n",
        "\n",
        "\n",
        "# axis.plot(i_track, scores_array)\n",
        "\n",
        "# axis.set_title('Title: Finding Optimal Neighbors', fontsize=15)\n",
        "# axis.set_ylabel('Average Cross Validation Score', fontsize=15)\n",
        "# axis.set_xlabel('Neighbors', fontsize=15)"
      ]
    },
    {
      "cell_type": "code",
      "execution_count": 23,
      "id": "9d0bcf87",
      "metadata": {
        "id": "9d0bcf87"
      },
      "outputs": [],
      "source": [
        "# helped increase kaggle score by 40%\n",
        "rs = RobustScaler()"
      ]
    },
    {
      "cell_type": "code",
      "execution_count": 24,
      "id": "5c812e4f",
      "metadata": {
        "id": "5c812e4f"
      },
      "outputs": [],
      "source": [
        "rs_scaled = rs.fit_transform(data_df)"
      ]
    },
    {
      "cell_type": "code",
      "execution_count": 25,
      "id": "a26ffea6",
      "metadata": {
        "id": "a26ffea6"
      },
      "outputs": [],
      "source": [
        "pca_data = PCA(n_components = .95, random_state=0)"
      ]
    },
    {
      "cell_type": "code",
      "execution_count": 26,
      "id": "70e66a60",
      "metadata": {
        "id": "70e66a60"
      },
      "outputs": [],
      "source": [
        "pca_data_tranformed = pca_data.fit_transform(rs_scaled)"
      ]
    },
    {
      "cell_type": "code",
      "execution_count": 26,
      "id": "285d35ec",
      "metadata": {
        "id": "285d35ec"
      },
      "outputs": [],
      "source": [
        ""
      ]
    },
    {
      "cell_type": "code",
      "execution_count": 26,
      "id": "5487abc0",
      "metadata": {
        "id": "5487abc0"
      },
      "outputs": [],
      "source": [
        ""
      ]
    },
    {
      "cell_type": "code",
      "execution_count": 27,
      "id": "768be4de",
      "metadata": {
        "id": "768be4de"
      },
      "outputs": [],
      "source": [
        "# ElbowV = KElbowVisualizer(KMeans(random_state=0), k=(4,21))\n",
        "# ElbowV.fit(pca_data_tranformed)\n",
        "# ElbowV.show()"
      ]
    },
    {
      "cell_type": "code",
      "execution_count": 28,
      "id": "2c6ac5d7",
      "metadata": {
        "scrolled": true,
        "colab": {
          "base_uri": "https://localhost:8080/"
        },
        "id": "2c6ac5d7",
        "outputId": "6297fe6d-ba77-4bcd-8dbf-2f8cb14751a2"
      },
      "outputs": [
        {
          "output_type": "stream",
          "name": "stderr",
          "text": [
            "/usr/local/lib/python3.7/dist-packages/sklearn/mixture/_base.py:282: ConvergenceWarning: Initialization 1 did not converge. Try different init parameters, or increase max_iter, tol or check for degenerate data.\n",
            "  ConvergenceWarning,\n"
          ]
        }
      ],
      "source": [
        "bgm_final_rand0 = BayesianGaussianMixture(n_components=10, covariance_type=\"full\", random_state=0).fit_predict(pca_data_tranformed)"
      ]
    },
    {
      "cell_type": "code",
      "execution_count": 29,
      "id": "48eb9787",
      "metadata": {
        "colab": {
          "base_uri": "https://localhost:8080/"
        },
        "id": "48eb9787",
        "outputId": "e250d107-2bb7-4824-8e06-408e1c5f8856"
      },
      "outputs": [
        {
          "output_type": "execute_result",
          "data": {
            "text/plain": [
              "(98000,)"
            ]
          },
          "metadata": {},
          "execution_count": 29
        }
      ],
      "source": [
        "bgm_final_rand0.shape"
      ]
    },
    {
      "cell_type": "code",
      "execution_count": 30,
      "id": "91cafe4c",
      "metadata": {
        "id": "91cafe4c"
      },
      "outputs": [],
      "source": [
        "# bgm_final_rand32 = BayesianGaussianMixture(n_components=10, covariance_type=\"full\", random_state=32).fit_predict(pca_data_tranformed)\n",
        "\n",
        "mbkmeans_final_rand32 = KMeans(n_clusters=10, random_state=32).fit_predict(pca_data_tranformed)"
      ]
    },
    {
      "cell_type": "code",
      "execution_count": 31,
      "id": "48931fae",
      "metadata": {
        "colab": {
          "base_uri": "https://localhost:8080/"
        },
        "id": "48931fae",
        "outputId": "aa39d952-49d7-4d92-9e86-e913eac23b2a"
      },
      "outputs": [
        {
          "output_type": "execute_result",
          "data": {
            "text/plain": [
              "(98000,)"
            ]
          },
          "metadata": {},
          "execution_count": 31
        }
      ],
      "source": [
        "mbkmeans_final_rand32.shape"
      ]
    },
    {
      "cell_type": "code",
      "execution_count": 32,
      "id": "b9fff4ed",
      "metadata": {
        "id": "b9fff4ed"
      },
      "outputs": [],
      "source": [
        "def create_sparse_matrix(predicted_clusters):\n",
        "    n = len(predicted_clusters)\n",
        "    data = []\n",
        "    row = []\n",
        "    col = []\n",
        "    for i in trange(n):\n",
        "        for j in range(i+1, n):\n",
        "            if predicted_clusters[i] == predicted_clusters[j]:\n",
        "                data.append(1)\n",
        "                row.append(i)\n",
        "                col.append(j)\n",
        "    print(len(data))\n",
        "    print(len(row))\n",
        "    print(len(col))\n",
        "    return csr_matrix((data, (row,col)), shape=(n,n))\n",
        "    "
      ]
    },
    {
      "cell_type": "code",
      "execution_count": null,
      "id": "ce5ef070",
      "metadata": {
        "id": "ce5ef070",
        "colab": {
          "base_uri": "https://localhost:8080/"
        },
        "outputId": "8387f5d2-d165-462c-a18c-865b84da113e"
      },
      "outputs": [
        {
          "output_type": "stream",
          "name": "stderr",
          "text": [
            " 57%|█████▋    | 55732/98000 [19:22<08:15, 85.24it/s]"
          ]
        }
      ],
      "source": [
        "sparse_matrix_rand32 = create_sparse_matrix(mbkmeans_final_rand32)"
      ]
    },
    {
      "cell_type": "code",
      "execution_count": null,
      "id": "985dc529",
      "metadata": {
        "id": "985dc529"
      },
      "outputs": [],
      "source": [
        "sparse_matrix_rand0 = create_sparse_matrix(bgm_final_rand0)"
      ]
    },
    {
      "cell_type": "code",
      "execution_count": null,
      "id": "5e7d2e20",
      "metadata": {
        "id": "5e7d2e20"
      },
      "outputs": [],
      "source": [
        "sparse_matrix_mean = (sparse_matrix_rand0 + sparse_matrix_rand32) / 2"
      ]
    },
    {
      "cell_type": "code",
      "execution_count": null,
      "id": "dfd8c335",
      "metadata": {
        "id": "dfd8c335"
      },
      "outputs": [],
      "source": [
        "sparse_matrix_mean[sparse_matrix_mean < 0.5] = 0\n",
        "sparse_matrix_mean[sparse_matrix_mean >= 0.5] = 1"
      ]
    },
    {
      "cell_type": "code",
      "execution_count": null,
      "id": "9bcf3d8f",
      "metadata": {
        "id": "9bcf3d8f"
      },
      "outputs": [],
      "source": [
        "sparse_matrix_mean = sparse_matrix_mean.toarray()\n",
        "\n",
        "clusters_final = np.zeros(len(pca_data_tranformed))\n",
        "cluster_final_next_id = 0\n",
        "\n",
        "\n",
        "for i in range(len(pca_data_tranformed)):\n",
        "    if clusters_final[i] == 0:\n",
        "        clusters_final_current_id = cluster_final_next_id\n",
        "        cluster_final_next_id +=1\n",
        "        clusters_final[i] = clusters_final_current_id\n",
        "        for j in range(i+1, len(pca_data_tranformed)):\n",
        "            if sparse_matrix_mean[i,j] ==1:\n",
        "                clusters_final[j] = clusters_final_current_id\n",
        "print(clusters_final)"
      ]
    },
    {
      "cell_type": "code",
      "execution_count": null,
      "id": "70094813",
      "metadata": {
        "id": "70094813"
      },
      "outputs": [],
      "source": [
        "submission_csv[\"Predicted\"] = clusters_final"
      ]
    },
    {
      "cell_type": "code",
      "execution_count": null,
      "id": "4bf11a3c",
      "metadata": {
        "id": "4bf11a3c"
      },
      "outputs": [],
      "source": [
        "submission_csv"
      ]
    },
    {
      "cell_type": "code",
      "execution_count": null,
      "id": "aad6a0f9",
      "metadata": {
        "id": "aad6a0f9"
      },
      "outputs": [],
      "source": [
        "submission_csv.to_csv(\"july_submission_5.csv\", index=False)"
      ]
    },
    {
      "cell_type": "code",
      "execution_count": null,
      "id": "372baa44",
      "metadata": {
        "id": "372baa44"
      },
      "outputs": [],
      "source": [
        ""
      ]
    }
  ],
  "metadata": {
    "kernelspec": {
      "display_name": "Python 3",
      "language": "python",
      "name": "python3"
    },
    "language_info": {
      "codemirror_mode": {
        "name": "ipython",
        "version": 3
      },
      "file_extension": ".py",
      "mimetype": "text/x-python",
      "name": "python",
      "nbconvert_exporter": "python",
      "pygments_lexer": "ipython3",
      "version": "3.8.8"
    },
    "colab": {
      "name": "test_run_july_tabular.ipynb",
      "provenance": [],
      "machine_shape": "hm"
    },
    "gpuClass": "standard"
  },
  "nbformat": 4,
  "nbformat_minor": 5
}